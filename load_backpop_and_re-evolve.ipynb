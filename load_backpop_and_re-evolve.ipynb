{
 "cells": [
  {
   "cell_type": "code",
   "execution_count": null,
   "id": "df26b380-0a41-4637-8ac1-d17025190dd2",
   "metadata": {},
   "outputs": [],
   "source": [
    "import numpy as np\n",
    "import pandas as pd\n",
    "import matplotlib.pyplot as plt\n",
    "import corner\n",
    "\n",
    "from cosmic.evolve import Evolve\n",
    "from cosmic.sample.initialbinarytable import InitialBinaryTable\n"
   ]
  },
  {
   "cell_type": "code",
   "execution_count": null,
   "id": "7d7e7645-4de2-4f10-bc34-8c7fbb9be1e3",
   "metadata": {},
   "outputs": [],
   "source": [
    "#load your data here, you'll probably have a different filename\n",
    "dat = np.load('WDMS.npz')"
   ]
  },
  {
   "cell_type": "code",
   "execution_count": null,
   "id": "d5dc1c6c-1b23-48cb-bfa4-763b8dca6ee5",
   "metadata": {},
   "outputs": [],
   "source": [
    "# select out the burn in (in this case, 300 steps)\n",
    "dat = dat['chain'][0:1024,300:,:]"
   ]
  },
  {
   "cell_type": "code",
   "execution_count": null,
   "id": "9cc26b9c-81dd-4214-84fc-e996e17d6bc0",
   "metadata": {},
   "outputs": [],
   "source": [
    "n_chain_list = len(dat)\n",
    "n_chains = len(dat[0])\n",
    "n_params = len(dat[0][0])\n",
    "\n",
    "#create an array and downsample by a factor of 5 ('thin the chains by a factor of 5')\n",
    "dat_stack = dat.reshape(n_chain_list * n_chains, n_params)\n",
    "\n",
    "dat_stack = dat_stack[::5,:]"
   ]
  },
  {
   "cell_type": "code",
   "execution_count": null,
   "id": "ed8f0268-3fcb-471c-87b7-85c61f03073d",
   "metadata": {},
   "outputs": [],
   "source": [
    "# save as a dataframe since these are easier to read (at least for kb)\n",
    "param_list = ['m1', 'm2', 'logtb', 'ecc', 'alpha_1', 'lambda']\n",
    "dat_stack = pd.DataFrame(dat_stack, columns=param_list)\n"
   ]
  },
  {
   "cell_type": "code",
   "execution_count": null,
   "id": "40c78ce6-8ebd-41ca-8233-de500c3f1ad1",
   "metadata": {},
   "outputs": [],
   "source": [
    "corner.corner(dat_stack[['m1', 'm2', 'logtb', 'ecc', 'alpha_1', 'lambda']], labels=['m1', 'm2', 'logtb', 'ecc', 'alpha_1', 'lambda']);"
   ]
  },
  {
   "cell_type": "markdown",
   "id": "cce579c4-bc2d-4d8f-809b-4a7d645214b4",
   "metadata": {},
   "source": [
    "### Now we can re-evolve the binaries to see what their evolutionary pathways are given the initial conditions and sampling parameters. This is pretty hacky since we need to have an initial binary table that has all of the BSEDict flags populated. To make that happen, we first evolve a population, then overwrite the initial conditions and re-run"
   ]
  },
  {
   "cell_type": "code",
   "execution_count": null,
   "id": "e447b40b-ec34-4c23-8fd4-512c2aaca58c",
   "metadata": {},
   "outputs": [],
   "source": [
    "BSEDict = {'xi': 1.0, 'bhflag': 1, 'neta': 0.5, 'windflag': 3, 'wdflag': 1, 'alpha1': [1.0, 1.0], 'pts1': 0.01, \n",
    "           'pts3': 0.02, 'pts2': 0.01, 'epsnov': 0.001, 'hewind': 0.5, 'ck': 1000, 'bwind': 0.0, \n",
    "           'lambdaf': 0.0, 'mxns': 3.0, 'beta': -1.0, 'tflag': 1, 'acc2': 1.5, 'grflag' : 1, 'remnantflag': 4, \n",
    "           'ceflag': 1, 'eddfac': 1.0, 'ifflag': 0, 'bconst': 3000, 'sigma': 265, 'gamma': -2.0, 'pisn': -2, \n",
    "           'natal_kick_array' : [[-100.0,-100.0,-100.0,-100.0,0.0], [-100.0,-100.0,-100.0,-100.0,0.0]], \n",
    "           'bhsigmafrac' : 1.0, 'polar_kick_angle' : 90, \n",
    "           'qcrit_array' : [0.0,0.0,0.0,0.0,0.0,0.0,0.0,0.0,0.0,0.0,0.0,0.0,0.0,0.0,0.0,0.0], \n",
    "           'cekickflag' : 2, 'cehestarflag' : 0, 'cemergeflag' : 1, 'ecsn' : 2.25, 'ecsn_mlow' : 1.6, 'aic' : 1, \n",
    "           'ussn' : 1, 'sigmadiv' :-20.0, 'qcflag' : 5, 'eddlimflag' : 0, \n",
    "           'fprimc_array' : [2.0/21.0,2.0/21.0,2.0/21.0,2.0/21.0,2.0/21.0,2.0/21.0,2.0/21.0,2.0/21.0,2.0/21.0,\n",
    "                             2.0/21.0,2.0/21.0,2.0/21.0,2.0/21.0,2.0/21.0,2.0/21.0,2.0/21.0], \n",
    "           'bhspinflag' : 0, 'bhspinmag' : 0.0, 'rejuv_fac' : 1.0, 'rejuvflag' : 0, 'htpmb' : 1, 'ST_cr' : 1, 'ST_tide' : 1, \n",
    "           'bdecayfac' : 1, 'rembar_massloss' : 0.5, 'kickflag' : 0, 'zsun' : 0.014, 'bhms_coll_flag' : 0, \n",
    "           'don_lim' : -1, 'acc_lim' : [-1, -1], 'rtmsflag':0}"
   ]
  },
  {
   "cell_type": "code",
   "execution_count": null,
   "id": "d80f0814-952c-44f4-bcb6-b4f70459142b",
   "metadata": {},
   "outputs": [],
   "source": [
    "InitialBinaries, mass_singles, mass_binaries, n_singles, n_binaries = InitialBinaryTable.sampler(\n",
    "    'independent', [10,11,12], [0,1], binfrac_model=1.0, primary_model='kroupa01', \n",
    "    ecc_model='uniform', porb_model='raghavan10', m2_min=0.08, SF_start=13700.0, SF_duration=0.0, \n",
    "    met=0.316*0.02, size=1000)"
   ]
  },
  {
   "cell_type": "code",
   "execution_count": null,
   "id": "31cb245c-cd70-45ce-b003-59623de5fd3e",
   "metadata": {},
   "outputs": [],
   "source": [
    "bpp, bcm, initC, kick_info  = Evolve.evolve(initialbinarytable=InitialBinaries, BSEDict=BSEDict)\n",
    "initC = initC.sample(1000, replace=False)"
   ]
  },
  {
   "cell_type": "code",
   "execution_count": null,
   "id": "09b8957f-8b0a-429d-9709-b7d81ca0d9c4",
   "metadata": {},
   "outputs": [],
   "source": [
    "dat_in = dat_stack.sample(1000, replace=False)"
   ]
  },
  {
   "cell_type": "code",
   "execution_count": null,
   "id": "73866ae2-65bc-4ce0-aab6-b285ef767721",
   "metadata": {},
   "outputs": [],
   "source": [
    "dat_in"
   ]
  },
  {
   "cell_type": "code",
   "execution_count": null,
   "id": "c9feba7d-5f84-44f9-938e-4b9bb3937796",
   "metadata": {},
   "outputs": [],
   "source": [
    "# you might need to update the initC columns based on what we decide to sample over. \n",
    "initC['mass_1'] = dat_in.m1.values\n",
    "initC['mass_2'] = dat_in.m2.values\n",
    "initC['mass0_1'] = dat_in.m1.values\n",
    "initC['mass0_2'] = dat_in.m2.values\n",
    "initC['ecc'] = dat_in.ecc.values\n",
    "initC['porb'] = 10**dat_in.logtb.values\n",
    "#lambda means something in python\n",
    "initC['lambdaf'] = dat_in['lambda'].values\n",
    "initC['alpha1_1'] = dat_in.alpha_1.values\n"
   ]
  },
  {
   "cell_type": "markdown",
   "id": "7b6d43d8-4564-4597-8ee5-05f0e5c32ce3",
   "metadata": {},
   "source": [
    "### This time, we don't specify the BSEDict since it's already specified"
   ]
  },
  {
   "cell_type": "code",
   "execution_count": null,
   "id": "7ecf4074-369f-4a18-a4f7-bd6f2240227c",
   "metadata": {},
   "outputs": [],
   "source": [
    "bpp_re, bcm_re, initC_re, kick_info_re  = Evolve.evolve(initialbinarytable=initC, BSEDict={})"
   ]
  },
  {
   "cell_type": "code",
   "execution_count": null,
   "id": "b35e4d96-5ed2-47ae-afff-c3da9731b55c",
   "metadata": {},
   "outputs": [],
   "source": [
    "bpp_re"
   ]
  },
  {
   "cell_type": "code",
   "execution_count": null,
   "id": "5ae1d1c9-a515-4b6b-ad25-31a2f42c78ba",
   "metadata": {},
   "outputs": [],
   "source": []
  }
 ],
 "metadata": {
  "kernelspec": {
   "display_name": "Python 3 (ipykernel)",
   "language": "python",
   "name": "python3"
  },
  "language_info": {
   "codemirror_mode": {
    "name": "ipython",
    "version": 3
   },
   "file_extension": ".py",
   "mimetype": "text/x-python",
   "name": "python",
   "nbconvert_exporter": "python",
   "pygments_lexer": "ipython3",
   "version": "3.10.14"
  }
 },
 "nbformat": 4,
 "nbformat_minor": 5
}
